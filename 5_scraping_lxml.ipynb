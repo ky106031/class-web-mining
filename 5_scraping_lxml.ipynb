{
 "cells": [
  {
   "cell_type": "code",
   "execution_count": 1,
   "id": "78fcd47a",
   "metadata": {},
   "outputs": [],
   "source": [
    "import requests\n",
    "import lxml.html\n",
    "import time\n",
    "import pandas as pd"
   ]
  },
  {
   "cell_type": "markdown",
   "id": "715b37a9",
   "metadata": {},
   "source": [
    "## requestsパッケージを用いて、滋賀大学DS学部の最新情報ページのHTMLを読み込む"
   ]
  },
  {
   "cell_type": "code",
   "execution_count": 2,
   "id": "a401fc25",
   "metadata": {
    "tags": []
   },
   "outputs": [
    {
     "name": "stdout",
     "output_type": "stream",
     "text": [
      "load https://www.ds.shiga-u.ac.jp/information/\n"
     ]
    },
    {
     "data": {
      "text/plain": [
       "'<!DOCTYPE html>\\r\\n<html lang=\"ja\">\\r\\n<head prefix=\"og: http://ogp.me/ns# website: http://ogp.me/ns/website#\">\\r\\n<meta charset=\"UTF-8\">\\r\\n<meta http-equiv=\"X-UA-Compatible\" content=\"IE=edge\">\\r\\n<!-- Google Tag Manager -->\\r\\n<script>\\r\\nwindow.dataLayer = window.dataLayer || [];\\r\\ndataLayer.push({\\'ipAddress\\': \\'133.102.20.151\\'});\\r\\n(function(w,d,s,l,i){w[l]=w[l]||[];w[l].push({\\'gtm.start\\':\\r\\nnew Date().getTime(),event:\\'gtm.js\\'});var f=d.getElementsByTagName(s)[0],\\r\\nj=d.createElement(s),dl=l!=\\'dataLayer\\'?\\'&l=\\'+l:\\'\\';j.async=true;j.src=\\r\\n\\'https://www.googletagmanager.com/gtm.js?id=\\'+i+dl;f.parentNode.insertBefore(j,f);\\r\\n})(window,document,\\'script\\',\\'dataLayer\\',\\'GTM-N3R8SHPW\\');\\r\\n</script>\\r\\n<!-- End Google Tag Manager -->\\r\\n<meta name=\"author\" content=\"滋賀大学\">\\r\\n<meta name=\"copyright\" content=\"(C) 2023 Shiga University.\">\\r\\n<!-- OGP -->\\r\\n<meta property=\"og:title\" content=\"学部・研究科 | お知らせ | 滋賀大学 データサイエンス学部 / 研究科\">\\r\\n<meta property=\"og:type\" content=\"website\">\\r\\n<meta property=\"og:image\" content=\"https://www.ds.shiga-u.ac.jp/wp-content/themes/hotozero-style/img/base/ogp.jpg\">\\r\\n<meta property=\"og:url\" content=\"https://www.ds.shiga-u.ac.jp/information/\">\\r\\n<meta property=\"og:locale\" content=\"ja_JP\">\\r\\n<meta property=\"og:site_name\" content=\"滋賀大学 データサイエンス学部 / 研究科\">\\r\\n<meta name=\"twitter:card\" content=\"summary_large_image\">\\r\\n<!-- /OGP -->\\r\\n\\r\\n<title>学部・研究科 | お知らせ | 滋賀大学 データサイエンス学部 / 研究科</title>\\r\\n<meta name=\\'robots\\' content=\\'max-image-preview:large\\' />\\n<script src=\"https://www.ds.shiga-u.ac.jp/wp-includes/js/jquery/jquery.min.js?ver=3.7.1\" id=\"jquery-core-js\"></script>\\n<script src=\"https://www.ds.shiga-u.ac.jp/wp-includes/js/jquery/jquery-migrate.min.js?ver=3.4.1\" id=\"jquery-migrate-js\"></script>\\n\\r\\n<meta name=\"format-detection\" content=\"telephone=no\">\\r\\n<meta name=\"viewport\" content=\"width=device-width\">\\r\\n<link rel=\"shortcut icon\" href=\"https://www.ds.shiga-u.ac.jp/wp-content/themes/hotozero-style/img/base/favicon.ico\">\\r\\n<!--CSS-->\\r\\n<link rel=\"preconnect\" href=\"https://fonts.googleapis.com\">\\r\\n<link rel=\"preconnect\" href=\"https://fonts.gstatic.com\" crossorigin>\\r\\n<link href=\"https://fonts.googleapis.com/css2?family=Noto+Sans+JP:wght@400;500;600;700&display=swap\" rel=\"stylesheet\">\\r\\n<link rel=\"stylesheet\" href=\"https://www.ds.shiga-u.ac.jp/wp-content/themes/hotozero-style/common/css/all.css?ver=1715826134\">\\r\\n</head>\\r\\n<body id=\"top\" class=\"archive information ds\">\\r\\n<!-- Google Tag Manager (noscript) -->\\r\\n<noscript><iframe src=\"https://www.googletagmanager.com/ns.html?id=GTM-N3R8SHPW\"\\r\\nheight=\"0\" width=\"0\" style=\"display:none;visibility:hidden\"></iframe></noscript>\\r\\n<!-- End Google Tag Manager (noscript) -->\\r\\n<div class=\"allWrap\">\\r\\n\\r\\n<header class=\"headerWrap\">\\r\\n<span id=\"overlayWrap\"></span>\\r\\n<h1 class=\"logo\"><a href=\"/\"><img src=\"https://www.ds.shiga-u.ac.jp/wp-content/themes/hotozero-style/img/base/logo.svg\" alt=\"滋賀大学 データサイエンス学部 / 研究科\" class=\"forPc\"><img src=\"https://www.ds.shiga-u.ac.jp/wp-content/themes/hotozero-style/img/base/logo_sp.svg\" alt=\"滋賀大学 データサイエンス学部 / 研究科\" class=\"forSp\"></a></h1>\\r\\n<p id=\"gNaviBtn\" class=\"forSp\"><i></i></p>\\r\\n<nav>\\r\\n<ul><li\\r\\n class=\"forSp\"><a href=\"/\">トップページ</a></li><li\\r\\n><a href=\"/about/\">学部・研究科の概要</a></li><li\\r\\n><a href=\"/department/\">データサイエンス学部</a></li><li\\r\\n><a href=\"/graduate/\">データサイエンス研究科</a></li><li\\r\\n><a href=\"/campus/\">学生支援</a></li><li\\r\\n><a href=\"/research-collaboration/\">研究・社会連携</a></li><li\\r\\n><a href=\"/member/\">教員紹介</a></li><li\\r\\n><a href=\"/admission/\">入試情報</a></li></ul>\\r\\n<ul><li\\r\\n><a href=\"/information/\">お知らせ</a></li><li\\r\\n><a href=\"/event/\">イベント情報</a></li><li\\r\\n><a href=\"https://dsaic.shiga-u.ac.jp/\" target=\"_blank\">DSセンター</a></li><li\\r\\n><a href=\"https://www.shiga-u.ac.jp/\" target=\"_blank\">滋賀大学</a></li></ul>\\r\\n<div class=\"langWrap\" translate=\"no\">\\r\\n<form action=\"https://www-ds-shiga--u-ac-jp.translate.goog/information/\" method=\"GET\">\\r\\n<input type=\"hidden\" name=\"_x_tr_sl\" value=\"ja\">\\r\\n<input type=\"hidden\" name=\"_x_tr_tl\" value=\"en\">\\r\\n<input type=\"hidden\" name=\"_x_tr_hl\" value=\"ja\">\\r\\n<input type=\"hidden\" name=\"_x_tr_pto\" value=\"wapp\">\\r\\n<button type=\"submit\">English</button>\\r\\n</form>\\r\\n<!--/langWrap--></div>\\r\\n</nav>\\r\\n</header>\\r\\n\\r\\n<div class=\"contentsTtlWrap\"><h1>お知らせ</h1></div>\\n\\n<div class=\"contentsWrap\">\\r\\n\\r\\n<main role=\"main\">\\r\\n<div class=\"mainWrap\">\\r\\n\\r\\n<div class=\"tabWrap\">\\r\\n<ul><li class=\"current\"><a href=\"/information/\">学部・研究科</a></li><li><a href=\"/information/dsaic/\">DSセンター</a></li></ul>\\r\\n<!--/tabWrap--></div>\\r\\n\\r\\n<div class=\"tabBarWrap\">\\n<ul><li class=\"current\"><a href=\"/information/\">全て</a></li><li><a href=\"https://www.ds.shiga-u.ac.jp/information/cat-1/\">学部</a></li><li><a href=\"https://www.ds.shiga-u.ac.jp/information/cat-2/\">研究科</a></li><li><a href=\"https://www.ds.shiga-u.ac.jp/information/cat-3/\">メディア掲載</a></li><li><a href=\"https://www.ds.shiga-u.ac.jp/information/cat-4/\">お知らせ</a></li></ul>\\n<!--/tabBarWrap--></div>\\n\\n<p class=\"count\">検索結果：323件</p>\\n\\n<div class=\"postBandWrap\">\\n<article>\\n<a href=\"https://www.ds.shiga-u.ac.jp/information/1137/\">\\n<p class=\"info\"><time datetime=\"2024-06-03\">2024/06/03</time><span class=\"type\">お知らせ</span></p>\\n<h1>NVIDIA学生アンバサダーらが「デジタルツイン」に関するワークショップを実施</h1>\\n</a>\\n</article>\\n<article>\\n<a href=\"https://www.ds.shiga-u.ac.jp/information/1132/\">\\n<p class=\"info\"><time datetime=\"2024-05-29\">2024/05/29</time><span class=\"type\">学部</span></p>\\n<h1>竹村学長らが、灘中・高等学校でデータサイエンスについて講義</h1>\\n</a>\\n</article>\\n<article>\\n<a href=\"https://www.ds.shiga-u.ac.jp/information/1125/\">\\n<p class=\"info\"><time datetime=\"2024-05-28\">2024/05/28</time><span class=\"type\">メディア掲載</span></p>\\n<h1>データサイエンス学部の女子枠新設に関する記事が京都新聞に掲載</h1>\\n</a>\\n</article>\\n<article>\\n<a href=\"https://www.ds.shiga-u.ac.jp/information/1123/\">\\n<p class=\"info\"><time datetime=\"2024-05-27\">2024/05/27</time><span class=\"type\">研究科</span></p>\\n<h1>データサイエンス研究科の戸簾隼人さんが、ICBIR2024でBest Paper Awardを受賞</h1>\\n</a>\\n</article>\\n<article>\\n<a href=\"https://www.ds.shiga-u.ac.jp/information/1111/\">\\n<p class=\"info\"><time datetime=\"2024-05-21\">2024/05/21</time><span class=\"type\">研究科</span></p>\\n<h1>データサイエンス研究科交流会を開催</h1>\\n</a>\\n</article>\\n<article>\\n<a href=\"https://www.ds.shiga-u.ac.jp/information/1104/\">\\n<p class=\"info\"><time datetime=\"2024-05-16\">2024/05/16</time><span class=\"type\">お知らせ</span></p>\\n<h1>令和7年度（2025年度）滋賀大学データサイエンス学部・研究科 入学者選抜の変更点について（予告）</h1>\\n</a>\\n</article>\\n<article>\\n<a href=\"https://www.ds.shiga-u.ac.jp/information/1106/\">\\n<p class=\"info\"><time datetime=\"2024-05-16\">2024/05/16</time><span class=\"type\">お知らせ</span></p>\\n<h1>粉体工学会でデータサイエンス研究科修了生の北村智浩さんがベストプレゼンテーション賞を受賞</h1>\\n</a>\\n</article>\\n<article>\\n<a href=\"https://www.ds.shiga-u.ac.jp/information/1105/\">\\n<p class=\"info\"><time datetime=\"2024-05-13\">2024/05/13</time><span class=\"type\">お知らせ</span></p>\\n<h1>「世界で最も影響力のある研究者トップ2%」に本学研究者が選出</h1>\\n</a>\\n</article>\\n<article>\\n<a href=\"https://www.ds.shiga-u.ac.jp/information/1099/\">\\n<p class=\"info\"><time datetime=\"2024-05-09\">2024/05/09</time><span class=\"type\">メディア掲載</span></p>\\n<h1>【掲載】東洋経済オンラインにて滋賀大学の状況が紹介</h1>\\n</a>\\n</article>\\n<article>\\n<a href=\"https://www.ds.shiga-u.ac.jp/information/1103/\">\\n<p class=\"info\"><time datetime=\"2024-05-09\">2024/05/09</time><span class=\"type\">メディア掲載</span></p>\\n<h1>【掲載】竹村学長のインタビュー記事が「月刊 先端教育」6月号に掲載</h1>\\n</a>\\n</article>\\n<article>\\n<a href=\"https://www.ds.shiga-u.ac.jp/information/1102/\">\\n<p class=\"info\"><time datetime=\"2024-05-09\">2024/05/09</time><span class=\"type\">研究科</span></p>\\n<h1>令和７年度大学院データサイエンス研究科（博士前期課程）学生募集要項の配布を開始しました</h1>\\n</a>\\n</article>\\n<article>\\n<a href=\"https://www.ds.shiga-u.ac.jp/information/1101/\">\\n<p class=\"info\"><time datetime=\"2024-05-09\">2024/05/09</time><span class=\"type\">研究科</span></p>\\n<h1>令和７年度大学院データサイエンス研究科（博士前期課程）「基本情報技術者試験」の取り扱いについて</h1>\\n</a>\\n</article>\\n<article>\\n<a href=\"https://www.ds.shiga-u.ac.jp/information/1100/\">\\n<p class=\"info\"><time datetime=\"2024-05-09\">2024/05/09</time><span class=\"type\">研究科</span></p>\\n<h1>令和７年度大学院データサイエンス研究科（博士前期課程）外国人留学生入試の実施について</h1>\\n</a>\\n</article>\\n<article>\\n<a href=\"https://www.ds.shiga-u.ac.jp/information/1098/\">\\n<p class=\"info\"><time datetime=\"2024-05-07\">2024/05/07</time><span class=\"type\">お知らせ</span></p>\\n<h1>【採用情報】 データサイエンス・AIイノベーション研究推進センター教員（助教・講師・准教授）２名（任期あり）（6月7日  15時必着）</h1>\\n</a>\\n</article>\\n<article>\\n<a href=\"https://www.ds.shiga-u.ac.jp/information/1096/\">\\n<p class=\"info\"><time datetime=\"2024-05-02\">2024/05/02</time><span class=\"type\">お知らせ</span></p>\\n<h1>令和７年度大学院データサイエンス研究科博士前期募集要項を公開しました</h1>\\n</a>\\n</article>\\n<article>\\n<a href=\"https://www.ds.shiga-u.ac.jp/information/1092/\">\\n<p class=\"info\"><time datetime=\"2024-04-26\">2024/04/26</time><span class=\"type\">お知らせ</span></p>\\n<h1>アメリカ・フロリダ大学と学術交流協定を締結</h1>\\n</a>\\n</article>\\n<!--/postBandWrap--></div>\\n\\n<div class=\\'wp-pagenavi\\' role=\\'navigation\\'>\\n<span class=\\'pages\\'>1 / 21</span><span aria-current=\\'page\\' class=\\'current\\'>1</span><a class=\"page larger\" title=\"ページ 2\" href=\"https://www.ds.shiga-u.ac.jp/information/page/2/\">2</a><a class=\"page larger\" title=\"ページ 3\" href=\"https://www.ds.shiga-u.ac.jp/information/page/3/\">3</a><a class=\"page larger\" title=\"ページ 4\" href=\"https://www.ds.shiga-u.ac.jp/information/page/4/\">4</a><a class=\"page larger\" title=\"ページ 5\" href=\"https://www.ds.shiga-u.ac.jp/information/page/5/\">5</a><span class=\\'extend\\'>...</span><a class=\"larger page\" title=\"ページ 10\" href=\"https://www.ds.shiga-u.ac.jp/information/page/10/\">10</a><a class=\"larger page\" title=\"ページ 20\" href=\"https://www.ds.shiga-u.ac.jp/information/page/20/\">20</a><span class=\\'extend\\'>...</span><a class=\"nextpostslink\" rel=\"next\" aria-label=\"次のページ\" href=\"https://www.ds.shiga-u.ac.jp/information/page/2/\">&gt;</a><a class=\"last\" aria-label=\"Last Page\" href=\"https://www.ds.shiga-u.ac.jp/information/page/21/\">&raquo;</a>\\n</div>\\r\\n<div class=\"pageBackBtn\"><a href=\"/\">トップページへ戻る</a></div>\\n\\n<!--/mainWrap--></div>\\n</main>\\n\\n<div class=\"sideWrap\" id=\"side\">\\n<div id=\"sticky\">\\n<aside class=\"aboutWrap\">\\n<div class=\"bnr\">\\n<header>\\n<h1>DS学部の強み</h1>\\n<p>滋賀大DS学部の強みや、<br>学びの概要、卒業後の進路など</p>\\n</header>\\n<p class=\"btn\"><a href=\"/about/\">詳しくはこちら</a></p>\\n<!--/bnr--></div>\\n<p class=\"caption\">データサイエンスを学ぶなら滋賀大で。日本初だからこそ実現できた、3つの強みを紹介します。</p>\\n<!--/aboutWrap--></aside>\\n<aside class=\"admissionWrap\">\\n<header>\\n<h1>入試情報</h1>\\n</header>\\n<p class=\"summary\">データサイエンス学部ならびにデータサイエンス研究科（大学院）の入試情報、WEBオープンキャンパスの情報を案内しています。</p>\\n<p class=\"btn\"><a href=\"/admission/\">詳しくはこちら</a></p>\\n<!--/admissionWrap--></aside>\\n<!--/sticky--></div>\\n<!--/sideWrap--></div>\\n\\n<!--/contentsWrap--></div>\\n\\n<footer class=\"footerWrap\" id=\"footer1\">\\n<div id=\"footer2\">\\n<p id=\"pagetopWrap\"><a href=\"#top\" class=\"scroll\">↑</a></p>\\n<ul><li\\n><a href=\"/faq/\">よくあるご質問</a></li><li\\n><a href=\"https://www.shiga-u.ac.jp/contact/\" target=\"_blank\">お問い合わせ</a></li><li\\n><a href=\"https://www.shiga-u.ac.jp/privacy-policy/\" target=\"_blank\">プライバシーポリシー</a></li><li\\n><a href=\"https://www.shiga-u.ac.jp/access/\" target=\"_blank\">アクセス</a></li><li\\n><a href=\"/current-students/\">在学生の方へ</a></li></ul>\\n<p class=\"copy\">&copy; 2024 Shiga University.</p>\\n</div>\\n</footer>\\n\\n<div class=\"stickySpWrap forSp\"><ul><li class=\"aboutBtn\"><a href=\"/about/\">DS学部の強み</a></li><li class=\"admissionBtn\"><a href=\"/admission/\">入試情報</a></li></ul></div>\\n\\n<script>document.body.classList.remove(\"no-js\");</script>\\t<script>\\n\\tif ( -1 !== navigator.userAgent.indexOf( \\'MSIE\\' ) || -1 !== navigator.appVersion.indexOf( \\'Trident/\\' ) ) {\\n\\t\\tdocument.body.classList.add( \\'is-IE\\' );\\n\\t}\\n\\t</script>\\n\\t\\n<!--JS-->\\n<script src=\"https://www.ds.shiga-u.ac.jp/wp-content/themes/hotozero-style/common/js/all.js?ver=1702990678\"></script>\\n<!--/allWrap--></div>\\n</body>\\n</html>'"
      ]
     },
     "execution_count": 2,
     "metadata": {},
     "output_type": "execute_result"
    }
   ],
   "source": [
    "url=\"https://www.ds.shiga-u.ac.jp/information/\"\n",
    "print(\"load {}\".format(url))\n",
    "time.sleep(5) # 多数のアクセスが殺到しないように、アクセス前にはtime.sleep()関数で少し待機しておく。\n",
    "r = requests.get(url) # urlのHTMLを読み込み、rに代入\n",
    "r.text # rに読み込まれたHTMLをテキストとして表示"
   ]
  },
  {
   "cell_type": "markdown",
   "id": "ddc64af4",
   "metadata": {},
   "source": [
    "## lxmlパッケージで読み込んだHTMLをスクレイピング"
   ]
  },
  {
   "cell_type": "code",
   "execution_count": 3,
   "id": "7ca20b24",
   "metadata": {},
   "outputs": [
    {
     "data": {
      "text/plain": [
       "lxml.html.HtmlElement"
      ]
     },
     "execution_count": 3,
     "metadata": {},
     "output_type": "execute_result"
    }
   ],
   "source": [
    "html = lxml.html.fromstring(r.text) # テキストとしてのHTMLをlxmlパッケージで読み込み、パース\n",
    "type(html) # パースされた結果は HtmlElementオブジェクトとして保存される"
   ]
  },
  {
   "cell_type": "code",
   "execution_count": 4,
   "id": "c34ce87c",
   "metadata": {},
   "outputs": [
    {
     "data": {
      "text/plain": [
       "[<Element article at 0x2d229057220>,\n",
       " <Element article at 0x2d229086540>,\n",
       " <Element article at 0x2d229086770>,\n",
       " <Element article at 0x2d2290a83b0>,\n",
       " <Element article at 0x2d2290a86d0>,\n",
       " <Element article at 0x2d2290a8720>,\n",
       " <Element article at 0x2d2290a8770>,\n",
       " <Element article at 0x2d2290a87c0>,\n",
       " <Element article at 0x2d2290a8810>,\n",
       " <Element article at 0x2d2290a8860>,\n",
       " <Element article at 0x2d2290a88b0>,\n",
       " <Element article at 0x2d2290a8900>,\n",
       " <Element article at 0x2d2290a8950>,\n",
       " <Element article at 0x2d2290a89a0>,\n",
       " <Element article at 0x2d2290a89f0>,\n",
       " <Element article at 0x2d2290a8a40>]"
      ]
     },
     "execution_count": 4,
     "metadata": {},
     "output_type": "execute_result"
    }
   ],
   "source": [
    "# article要素を抜き出す\n",
    "news_list = html.cssselect(\"article\")\n",
    "# news_list = html.cssselect(\"div.postBandWrap > article\")\n",
    "news_list"
   ]
  },
  {
   "cell_type": "code",
   "execution_count": 5,
   "id": "0f28cde9",
   "metadata": {},
   "outputs": [
    {
     "data": {
      "text/plain": [
       "lxml.html.HtmlElement"
      ]
     },
     "execution_count": 5,
     "metadata": {},
     "output_type": "execute_result"
    }
   ],
   "source": [
    "news_item = news_list[0] # 最初のarticle要素をnews_itemとして取り出す\n",
    "type(news_item) # 取り出された結果は再び HtmlElementオブジェクトになっている。"
   ]
  },
  {
   "cell_type": "code",
   "execution_count": 6,
   "id": "5efdcf91",
   "metadata": {},
   "outputs": [],
   "source": [
    "# news_item内の各要素を取り出す\n",
    "link_tags = news_item.cssselect(\"a\")     \n",
    "date_tags = news_item.cssselect(\"time\")    \n",
    "label_tags = news_item.cssselect(\"span\")\n",
    "text_tags = news_item.cssselect(\"h1\")"
   ]
  },
  {
   "cell_type": "code",
   "execution_count": 7,
   "id": "0ffda14d",
   "metadata": {},
   "outputs": [
    {
     "name": "stdout",
     "output_type": "stream",
     "text": [
      "https://www.ds.shiga-u.ac.jp/information/1137/ 2024/06/03 お知らせ NVIDIA学生アンバサダーらが「デジタルツイン」に関するワークショップを実施\n"
     ]
    }
   ],
   "source": [
    "# CSSセレクターの結果はリストなので[0]で最初の要素を取り出し、そこから、必要な情報を取り出す。\n",
    "link = link_tags[0].attrib['href'] # URLはa要素のhref属性なので、.attribを用いて取り出す。\n",
    "date = date_tags[0].text # .textはその要素の内容となるテキストを取り出す\n",
    "label = label_tags[0].text\n",
    "text = text_tags[0].text\n",
    "print(link,date,label,text)"
   ]
  },
  {
   "cell_type": "code",
   "execution_count": 8,
   "id": "1784871a",
   "metadata": {},
   "outputs": [],
   "source": [
    "news_data=[]\n",
    "for news_item in news_list:\n",
    "    link_tags = news_item.cssselect(\"a\")     \n",
    "    date_tags=news_item.cssselect(\"time\")    \n",
    "    label_tags = news_item.cssselect(\"span\")\n",
    "    text_tags = news_item.cssselect(\"h1\")\n",
    "    \n",
    "    link = link_tags[0].attrib['href']\n",
    "    date = date_tags[0].text\n",
    "    label = label_tags[0].text\n",
    "    text = text_tags[0].text\n",
    "    \n",
    "    # 各 news_itemから得られたデータを辞書型のリストとして保存\n",
    "    news_data.append({\"date\":date,\"label\":label,\"text\":text,\"link\":link})"
   ]
  },
  {
   "cell_type": "code",
   "execution_count": 9,
   "id": "5c9f3926",
   "metadata": {},
   "outputs": [
    {
     "data": {
      "text/html": [
       "<div>\n",
       "<style scoped>\n",
       "    .dataframe tbody tr th:only-of-type {\n",
       "        vertical-align: middle;\n",
       "    }\n",
       "\n",
       "    .dataframe tbody tr th {\n",
       "        vertical-align: top;\n",
       "    }\n",
       "\n",
       "    .dataframe thead th {\n",
       "        text-align: right;\n",
       "    }\n",
       "</style>\n",
       "<table border=\"1\" class=\"dataframe\">\n",
       "  <thead>\n",
       "    <tr style=\"text-align: right;\">\n",
       "      <th></th>\n",
       "      <th>date</th>\n",
       "      <th>label</th>\n",
       "      <th>text</th>\n",
       "      <th>link</th>\n",
       "    </tr>\n",
       "  </thead>\n",
       "  <tbody>\n",
       "    <tr>\n",
       "      <th>0</th>\n",
       "      <td>2024/06/03</td>\n",
       "      <td>お知らせ</td>\n",
       "      <td>NVIDIA学生アンバサダーらが「デジタルツイン」に関するワークショップを実施</td>\n",
       "      <td>https://www.ds.shiga-u.ac.jp/information/1137/</td>\n",
       "    </tr>\n",
       "    <tr>\n",
       "      <th>1</th>\n",
       "      <td>2024/05/29</td>\n",
       "      <td>学部</td>\n",
       "      <td>竹村学長らが、灘中・高等学校でデータサイエンスについて講義</td>\n",
       "      <td>https://www.ds.shiga-u.ac.jp/information/1132/</td>\n",
       "    </tr>\n",
       "    <tr>\n",
       "      <th>2</th>\n",
       "      <td>2024/05/28</td>\n",
       "      <td>メディア掲載</td>\n",
       "      <td>データサイエンス学部の女子枠新設に関する記事が京都新聞に掲載</td>\n",
       "      <td>https://www.ds.shiga-u.ac.jp/information/1125/</td>\n",
       "    </tr>\n",
       "    <tr>\n",
       "      <th>3</th>\n",
       "      <td>2024/05/27</td>\n",
       "      <td>研究科</td>\n",
       "      <td>データサイエンス研究科の戸簾隼人さんが、ICBIR2024でBest Paper Awardを受賞</td>\n",
       "      <td>https://www.ds.shiga-u.ac.jp/information/1123/</td>\n",
       "    </tr>\n",
       "    <tr>\n",
       "      <th>4</th>\n",
       "      <td>2024/05/21</td>\n",
       "      <td>研究科</td>\n",
       "      <td>データサイエンス研究科交流会を開催</td>\n",
       "      <td>https://www.ds.shiga-u.ac.jp/information/1111/</td>\n",
       "    </tr>\n",
       "    <tr>\n",
       "      <th>5</th>\n",
       "      <td>2024/05/16</td>\n",
       "      <td>お知らせ</td>\n",
       "      <td>令和7年度（2025年度）滋賀大学データサイエンス学部・研究科 入学者選抜の変更点について（予告）</td>\n",
       "      <td>https://www.ds.shiga-u.ac.jp/information/1104/</td>\n",
       "    </tr>\n",
       "    <tr>\n",
       "      <th>6</th>\n",
       "      <td>2024/05/16</td>\n",
       "      <td>お知らせ</td>\n",
       "      <td>粉体工学会でデータサイエンス研究科修了生の北村智浩さんがベストプレゼンテーション賞を受賞</td>\n",
       "      <td>https://www.ds.shiga-u.ac.jp/information/1106/</td>\n",
       "    </tr>\n",
       "    <tr>\n",
       "      <th>7</th>\n",
       "      <td>2024/05/13</td>\n",
       "      <td>お知らせ</td>\n",
       "      <td>「世界で最も影響力のある研究者トップ2%」に本学研究者が選出</td>\n",
       "      <td>https://www.ds.shiga-u.ac.jp/information/1105/</td>\n",
       "    </tr>\n",
       "    <tr>\n",
       "      <th>8</th>\n",
       "      <td>2024/05/09</td>\n",
       "      <td>メディア掲載</td>\n",
       "      <td>【掲載】東洋経済オンラインにて滋賀大学の状況が紹介</td>\n",
       "      <td>https://www.ds.shiga-u.ac.jp/information/1099/</td>\n",
       "    </tr>\n",
       "    <tr>\n",
       "      <th>9</th>\n",
       "      <td>2024/05/09</td>\n",
       "      <td>メディア掲載</td>\n",
       "      <td>【掲載】竹村学長のインタビュー記事が「月刊 先端教育」6月号に掲載</td>\n",
       "      <td>https://www.ds.shiga-u.ac.jp/information/1103/</td>\n",
       "    </tr>\n",
       "    <tr>\n",
       "      <th>10</th>\n",
       "      <td>2024/05/09</td>\n",
       "      <td>研究科</td>\n",
       "      <td>令和７年度大学院データサイエンス研究科（博士前期課程）学生募集要項の配布を開始しました</td>\n",
       "      <td>https://www.ds.shiga-u.ac.jp/information/1102/</td>\n",
       "    </tr>\n",
       "    <tr>\n",
       "      <th>11</th>\n",
       "      <td>2024/05/09</td>\n",
       "      <td>研究科</td>\n",
       "      <td>令和７年度大学院データサイエンス研究科（博士前期課程）「基本情報技術者試験」の取り扱いについて</td>\n",
       "      <td>https://www.ds.shiga-u.ac.jp/information/1101/</td>\n",
       "    </tr>\n",
       "    <tr>\n",
       "      <th>12</th>\n",
       "      <td>2024/05/09</td>\n",
       "      <td>研究科</td>\n",
       "      <td>令和７年度大学院データサイエンス研究科（博士前期課程）外国人留学生入試の実施について</td>\n",
       "      <td>https://www.ds.shiga-u.ac.jp/information/1100/</td>\n",
       "    </tr>\n",
       "    <tr>\n",
       "      <th>13</th>\n",
       "      <td>2024/05/07</td>\n",
       "      <td>お知らせ</td>\n",
       "      <td>【採用情報】 データサイエンス・AIイノベーション研究推進センター教員（助教・講師・准教授）...</td>\n",
       "      <td>https://www.ds.shiga-u.ac.jp/information/1098/</td>\n",
       "    </tr>\n",
       "    <tr>\n",
       "      <th>14</th>\n",
       "      <td>2024/05/02</td>\n",
       "      <td>お知らせ</td>\n",
       "      <td>令和７年度大学院データサイエンス研究科博士前期募集要項を公開しました</td>\n",
       "      <td>https://www.ds.shiga-u.ac.jp/information/1096/</td>\n",
       "    </tr>\n",
       "    <tr>\n",
       "      <th>15</th>\n",
       "      <td>2024/04/26</td>\n",
       "      <td>お知らせ</td>\n",
       "      <td>アメリカ・フロリダ大学と学術交流協定を締結</td>\n",
       "      <td>https://www.ds.shiga-u.ac.jp/information/1092/</td>\n",
       "    </tr>\n",
       "  </tbody>\n",
       "</table>\n",
       "</div>"
      ],
      "text/plain": [
       "          date   label                                               text  \\\n",
       "0   2024/06/03    お知らせ            NVIDIA学生アンバサダーらが「デジタルツイン」に関するワークショップを実施   \n",
       "1   2024/05/29      学部                      竹村学長らが、灘中・高等学校でデータサイエンスについて講義   \n",
       "2   2024/05/28  メディア掲載                     データサイエンス学部の女子枠新設に関する記事が京都新聞に掲載   \n",
       "3   2024/05/27     研究科  データサイエンス研究科の戸簾隼人さんが、ICBIR2024でBest Paper Awardを受賞   \n",
       "4   2024/05/21     研究科                                  データサイエンス研究科交流会を開催   \n",
       "5   2024/05/16    お知らせ  令和7年度（2025年度）滋賀大学データサイエンス学部・研究科 入学者選抜の変更点について（予告）   \n",
       "6   2024/05/16    お知らせ       粉体工学会でデータサイエンス研究科修了生の北村智浩さんがベストプレゼンテーション賞を受賞   \n",
       "7   2024/05/13    お知らせ                     「世界で最も影響力のある研究者トップ2%」に本学研究者が選出   \n",
       "8   2024/05/09  メディア掲載                          【掲載】東洋経済オンラインにて滋賀大学の状況が紹介   \n",
       "9   2024/05/09  メディア掲載                  【掲載】竹村学長のインタビュー記事が「月刊 先端教育」6月号に掲載   \n",
       "10  2024/05/09     研究科        令和７年度大学院データサイエンス研究科（博士前期課程）学生募集要項の配布を開始しました   \n",
       "11  2024/05/09     研究科    令和７年度大学院データサイエンス研究科（博士前期課程）「基本情報技術者試験」の取り扱いについて   \n",
       "12  2024/05/09     研究科         令和７年度大学院データサイエンス研究科（博士前期課程）外国人留学生入試の実施について   \n",
       "13  2024/05/07    お知らせ  【採用情報】 データサイエンス・AIイノベーション研究推進センター教員（助教・講師・准教授）...   \n",
       "14  2024/05/02    お知らせ                 令和７年度大学院データサイエンス研究科博士前期募集要項を公開しました   \n",
       "15  2024/04/26    お知らせ                              アメリカ・フロリダ大学と学術交流協定を締結   \n",
       "\n",
       "                                              link  \n",
       "0   https://www.ds.shiga-u.ac.jp/information/1137/  \n",
       "1   https://www.ds.shiga-u.ac.jp/information/1132/  \n",
       "2   https://www.ds.shiga-u.ac.jp/information/1125/  \n",
       "3   https://www.ds.shiga-u.ac.jp/information/1123/  \n",
       "4   https://www.ds.shiga-u.ac.jp/information/1111/  \n",
       "5   https://www.ds.shiga-u.ac.jp/information/1104/  \n",
       "6   https://www.ds.shiga-u.ac.jp/information/1106/  \n",
       "7   https://www.ds.shiga-u.ac.jp/information/1105/  \n",
       "8   https://www.ds.shiga-u.ac.jp/information/1099/  \n",
       "9   https://www.ds.shiga-u.ac.jp/information/1103/  \n",
       "10  https://www.ds.shiga-u.ac.jp/information/1102/  \n",
       "11  https://www.ds.shiga-u.ac.jp/information/1101/  \n",
       "12  https://www.ds.shiga-u.ac.jp/information/1100/  \n",
       "13  https://www.ds.shiga-u.ac.jp/information/1098/  \n",
       "14  https://www.ds.shiga-u.ac.jp/information/1096/  \n",
       "15  https://www.ds.shiga-u.ac.jp/information/1092/  "
      ]
     },
     "execution_count": 9,
     "metadata": {},
     "output_type": "execute_result"
    }
   ],
   "source": [
    "df = pd.DataFrame(news_data) # 得られたデータをpandasのdataframeに変換\n",
    "df"
   ]
  },
  {
   "cell_type": "code",
   "execution_count": 10,
   "id": "17195269",
   "metadata": {},
   "outputs": [
    {
     "data": {
      "text/plain": [
       "'https://www.ds.shiga-u.ac.jp/information/page/2/'"
      ]
     },
     "execution_count": 10,
     "metadata": {},
     "output_type": "execute_result"
    }
   ],
   "source": [
    "# 「次へ」に対応するURLを取得する\n",
    "next_tags = html.cssselect(\"a.nextpostslink\")\n",
    "next_url = next_tags[0].attrib['href']\n",
    "next_url"
   ]
  },
  {
   "cell_type": "markdown",
   "id": "77287ebe",
   "metadata": {},
   "source": [
    "## これらを組み合わせて、クローラーを完成させる"
   ]
  },
  {
   "cell_type": "code",
   "execution_count": 11,
   "id": "f8510feb",
   "metadata": {},
   "outputs": [
    {
     "name": "stdout",
     "output_type": "stream",
     "text": [
      "load https://www.ds.shiga-u.ac.jp/information/\n",
      "load https://www.ds.shiga-u.ac.jp/information/page/2/\n",
      "load https://www.ds.shiga-u.ac.jp/information/page/3/\n",
      "load https://www.ds.shiga-u.ac.jp/information/page/4/\n",
      "load https://www.ds.shiga-u.ac.jp/information/page/5/\n",
      "load https://www.ds.shiga-u.ac.jp/information/page/6/\n",
      "load https://www.ds.shiga-u.ac.jp/information/page/7/\n",
      "load https://www.ds.shiga-u.ac.jp/information/page/8/\n",
      "load https://www.ds.shiga-u.ac.jp/information/page/9/\n",
      "load https://www.ds.shiga-u.ac.jp/information/page/10/\n",
      "load https://www.ds.shiga-u.ac.jp/information/page/11/\n",
      "load https://www.ds.shiga-u.ac.jp/information/page/12/\n",
      "load https://www.ds.shiga-u.ac.jp/information/page/13/\n",
      "load https://www.ds.shiga-u.ac.jp/information/page/14/\n",
      "load https://www.ds.shiga-u.ac.jp/information/page/15/\n",
      "load https://www.ds.shiga-u.ac.jp/information/page/16/\n",
      "load https://www.ds.shiga-u.ac.jp/information/page/17/\n",
      "load https://www.ds.shiga-u.ac.jp/information/page/18/\n",
      "load https://www.ds.shiga-u.ac.jp/information/page/19/\n",
      "load https://www.ds.shiga-u.ac.jp/information/page/20/\n",
      "load https://www.ds.shiga-u.ac.jp/information/page/21/\n"
     ]
    },
    {
     "data": {
      "text/html": [
       "<div>\n",
       "<style scoped>\n",
       "    .dataframe tbody tr th:only-of-type {\n",
       "        vertical-align: middle;\n",
       "    }\n",
       "\n",
       "    .dataframe tbody tr th {\n",
       "        vertical-align: top;\n",
       "    }\n",
       "\n",
       "    .dataframe thead th {\n",
       "        text-align: right;\n",
       "    }\n",
       "</style>\n",
       "<table border=\"1\" class=\"dataframe\">\n",
       "  <thead>\n",
       "    <tr style=\"text-align: right;\">\n",
       "      <th></th>\n",
       "      <th>date</th>\n",
       "      <th>label</th>\n",
       "      <th>text</th>\n",
       "      <th>link</th>\n",
       "    </tr>\n",
       "  </thead>\n",
       "  <tbody>\n",
       "    <tr>\n",
       "      <th>0</th>\n",
       "      <td>2024/06/03</td>\n",
       "      <td>お知らせ</td>\n",
       "      <td>NVIDIA学生アンバサダーらが「デジタルツイン」に関するワークショップを実施</td>\n",
       "      <td>https://www.ds.shiga-u.ac.jp/information/1137/</td>\n",
       "    </tr>\n",
       "    <tr>\n",
       "      <th>1</th>\n",
       "      <td>2024/05/29</td>\n",
       "      <td>学部</td>\n",
       "      <td>竹村学長らが、灘中・高等学校でデータサイエンスについて講義</td>\n",
       "      <td>https://www.ds.shiga-u.ac.jp/information/1132/</td>\n",
       "    </tr>\n",
       "    <tr>\n",
       "      <th>2</th>\n",
       "      <td>2024/05/28</td>\n",
       "      <td>メディア掲載</td>\n",
       "      <td>データサイエンス学部の女子枠新設に関する記事が京都新聞に掲載</td>\n",
       "      <td>https://www.ds.shiga-u.ac.jp/information/1125/</td>\n",
       "    </tr>\n",
       "    <tr>\n",
       "      <th>3</th>\n",
       "      <td>2024/05/27</td>\n",
       "      <td>研究科</td>\n",
       "      <td>データサイエンス研究科の戸簾隼人さんが、ICBIR2024でBest Paper Awardを受賞</td>\n",
       "      <td>https://www.ds.shiga-u.ac.jp/information/1123/</td>\n",
       "    </tr>\n",
       "    <tr>\n",
       "      <th>4</th>\n",
       "      <td>2024/05/21</td>\n",
       "      <td>研究科</td>\n",
       "      <td>データサイエンス研究科交流会を開催</td>\n",
       "      <td>https://www.ds.shiga-u.ac.jp/information/1111/</td>\n",
       "    </tr>\n",
       "    <tr>\n",
       "      <th>...</th>\n",
       "      <td>...</td>\n",
       "      <td>...</td>\n",
       "      <td>...</td>\n",
       "      <td>...</td>\n",
       "    </tr>\n",
       "    <tr>\n",
       "      <th>318</th>\n",
       "      <td>2017/06/01</td>\n",
       "      <td>お知らせ</td>\n",
       "      <td>データサイエンス教育研究センター報【PDF】をアップしました</td>\n",
       "      <td>https://www.ds.shiga-u.ac.jp/information/347/</td>\n",
       "    </tr>\n",
       "    <tr>\n",
       "      <th>319</th>\n",
       "      <td>2016/12/22</td>\n",
       "      <td>お知らせ</td>\n",
       "      <td>データサイエンス教育強化を先導する拠点大学に選定</td>\n",
       "      <td>https://www.ds.shiga-u.ac.jp/information/346/</td>\n",
       "    </tr>\n",
       "    <tr>\n",
       "      <th>320</th>\n",
       "      <td>2016/10/06</td>\n",
       "      <td>お知らせ</td>\n",
       "      <td>データサイエンス学部のプロモーションビデオを公開しました(10/6)</td>\n",
       "      <td>https://www.ds.shiga-u.ac.jp/information/345/</td>\n",
       "    </tr>\n",
       "    <tr>\n",
       "      <th>321</th>\n",
       "      <td>2016/08/06</td>\n",
       "      <td>お知らせ</td>\n",
       "      <td>和泉志津恵教授が公益財団法人大分県交通安全協会より功績賞を受賞(8月5日)</td>\n",
       "      <td>https://www.ds.shiga-u.ac.jp/information/348/</td>\n",
       "    </tr>\n",
       "    <tr>\n",
       "      <th>322</th>\n",
       "      <td>2016/07/21</td>\n",
       "      <td>お知らせ</td>\n",
       "      <td>データサイエンス教育研究センターの開設式が行われました</td>\n",
       "      <td>https://www.ds.shiga-u.ac.jp/information/337/</td>\n",
       "    </tr>\n",
       "  </tbody>\n",
       "</table>\n",
       "<p>323 rows × 4 columns</p>\n",
       "</div>"
      ],
      "text/plain": [
       "           date   label                                               text  \\\n",
       "0    2024/06/03    お知らせ            NVIDIA学生アンバサダーらが「デジタルツイン」に関するワークショップを実施   \n",
       "1    2024/05/29      学部                      竹村学長らが、灘中・高等学校でデータサイエンスについて講義   \n",
       "2    2024/05/28  メディア掲載                     データサイエンス学部の女子枠新設に関する記事が京都新聞に掲載   \n",
       "3    2024/05/27     研究科  データサイエンス研究科の戸簾隼人さんが、ICBIR2024でBest Paper Awardを受賞   \n",
       "4    2024/05/21     研究科                                  データサイエンス研究科交流会を開催   \n",
       "..          ...     ...                                                ...   \n",
       "318  2017/06/01    お知らせ                     データサイエンス教育研究センター報【PDF】をアップしました   \n",
       "319  2016/12/22    お知らせ                           データサイエンス教育強化を先導する拠点大学に選定   \n",
       "320  2016/10/06    お知らせ                 データサイエンス学部のプロモーションビデオを公開しました(10/6)   \n",
       "321  2016/08/06    お知らせ              和泉志津恵教授が公益財団法人大分県交通安全協会より功績賞を受賞(8月5日)   \n",
       "322  2016/07/21    お知らせ                        データサイエンス教育研究センターの開設式が行われました   \n",
       "\n",
       "                                               link  \n",
       "0    https://www.ds.shiga-u.ac.jp/information/1137/  \n",
       "1    https://www.ds.shiga-u.ac.jp/information/1132/  \n",
       "2    https://www.ds.shiga-u.ac.jp/information/1125/  \n",
       "3    https://www.ds.shiga-u.ac.jp/information/1123/  \n",
       "4    https://www.ds.shiga-u.ac.jp/information/1111/  \n",
       "..                                              ...  \n",
       "318   https://www.ds.shiga-u.ac.jp/information/347/  \n",
       "319   https://www.ds.shiga-u.ac.jp/information/346/  \n",
       "320   https://www.ds.shiga-u.ac.jp/information/345/  \n",
       "321   https://www.ds.shiga-u.ac.jp/information/348/  \n",
       "322   https://www.ds.shiga-u.ac.jp/information/337/  \n",
       "\n",
       "[323 rows x 4 columns]"
      ]
     },
     "execution_count": 11,
     "metadata": {},
     "output_type": "execute_result"
    }
   ],
   "source": [
    "next_url=\"https://www.ds.shiga-u.ac.jp/information/\" # 最初のページ\n",
    "news_data=[] # データを格納するリストの宣言/初期化\n",
    "\n",
    "# 次のurlが見つかれば、そのページをスクレイピング\n",
    "while next_url:\n",
    "    # RequestsパッケージでHTMLを取得\n",
    "    print(\"load {}\".format(next_url))\n",
    "    time.sleep(5) # 多数のアクセスが殺到しないように、アクセス前にはtime.sleep()関数で少し待機しておく。\n",
    "    r = requests.get(next_url) \n",
    "    \n",
    "    # lxmlでHTMLをパース\n",
    "    html = lxml.html.fromstring(r.text)\n",
    "    \n",
    "    # 各ニュースに対応するarticle要素を抜き出す\n",
    "    news_list = html.cssselect(\"article\")\n",
    "     \n",
    "    # ニュースリスト内の各ニュースに対してループを回す。\n",
    "    for news_item in news_list:\n",
    "        # CSSセレクターで必要な要素を検索/取得\n",
    "        link_tags = news_item.cssselect(\"a\")     \n",
    "        date_tags=news_item.cssselect(\"time\")    \n",
    "        label_tags = news_item.cssselect(\"span\")\n",
    "        text_tags = news_item.cssselect(\"h1\")\n",
    "\n",
    "        # 各要素から必要なデータを取得\n",
    "        # やっていることは上のセルと同じだが、CSSセレクターでタグが見つからなかったときにエラーの代わりに、Noneが代入されるように微変更\n",
    "        link = link_tags[0].attrib['href'] if link_tags else None\n",
    "        date = date_tags[0].text if date_tags else None\n",
    "        label = label_tags[0].text if label_tags else None\n",
    "        text = text_tags[0].text if text_tags else None\n",
    "\n",
    "        # 各 news_itemから得られたデータを辞書型のリストとして保存\n",
    "        news_data.append({\"date\":date,\"label\":label,\"text\":text,\"link\":link})\n",
    "    \n",
    "    # 「次へ」に対応するURLを取得する\n",
    "    next_tags = html.cssselect(\"a.nextpostslink\")\n",
    "    next_url = next_tags[0].attrib['href'] if next_tags else None\n",
    "\n",
    "# 得られたデータをpandasのdataframeに変換\n",
    "df = pd.DataFrame(news_data) \n",
    "df"
   ]
  },
  {
   "cell_type": "code",
   "execution_count": null,
   "id": "a032b59f",
   "metadata": {},
   "outputs": [],
   "source": []
  }
 ],
 "metadata": {
  "kernelspec": {
   "display_name": "Python 3 (ipykernel)",
   "language": "python",
   "name": "python3"
  },
  "language_info": {
   "codemirror_mode": {
    "name": "ipython",
    "version": 3
   },
   "file_extension": ".py",
   "mimetype": "text/x-python",
   "name": "python",
   "nbconvert_exporter": "python",
   "pygments_lexer": "ipython3",
   "version": "3.9.12"
  }
 },
 "nbformat": 4,
 "nbformat_minor": 5
}
