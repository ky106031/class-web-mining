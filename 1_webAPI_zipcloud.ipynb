{
 "cells": [
  {
   "cell_type": "markdown",
   "id": "0230fddf-ffcd-4b6b-9e57-f31bf22fb6ec",
   "metadata": {},
   "source": [
    "# ZipcloudのWeb API"
   ]
  },
  {
   "cell_type": "code",
   "execution_count": 1,
   "id": "b84fa6bf-070d-46c1-a9d9-1a33baa9ebdc",
   "metadata": {},
   "outputs": [],
   "source": [
    "import requests\n",
    "import json\n",
    "import time\n",
    "import pandas as pd"
   ]
  },
  {
   "cell_type": "code",
   "execution_count": 2,
   "id": "efe8281a-a1b0-4a22-a0da-0c21278f3fbc",
   "metadata": {},
   "outputs": [],
   "source": [
    "r = requests.get(\"https://zipcloud.ibsnet.co.jp/api/search?zipcode=5220073\") # ZipcloudのWeb APIにGetメソッドでアクセス"
   ]
  },
  {
   "cell_type": "code",
   "execution_count": 3,
   "id": "103d125e-7dcc-47b8-8082-d9057a49f333",
   "metadata": {
    "tags": []
   },
   "outputs": [
    {
     "data": {
      "text/plain": [
       "'{\\n\\t\"message\": null,\\n\\t\"results\": [\\n\\t\\t{\\n\\t\\t\\t\"address1\": \"滋賀県\",\\n\\t\\t\\t\"address2\": \"彦根市\",\\n\\t\\t\\t\"address3\": \"旭町\",\\n\\t\\t\\t\"kana1\": \"ｼｶﾞｹﾝ\",\\n\\t\\t\\t\"kana2\": \"ﾋｺﾈｼ\",\\n\\t\\t\\t\"kana3\": \"ｱｻﾋﾏﾁ\",\\n\\t\\t\\t\"prefcode\": \"25\",\\n\\t\\t\\t\"zipcode\": \"5220073\"\\n\\t\\t}\\n\\t],\\n\\t\"status\": 200\\n}'"
      ]
     },
     "execution_count": 3,
     "metadata": {},
     "output_type": "execute_result"
    }
   ],
   "source": [
    "r.text # Getメソッドに対するResponceオブジェクト r の中に、文字列としてデータがダウンロードされている。"
   ]
  },
  {
   "cell_type": "code",
   "execution_count": 4,
   "id": "e19bc08a",
   "metadata": {},
   "outputs": [
    {
     "name": "stdout",
     "output_type": "stream",
     "text": [
      "{\n",
      "\t\"message\": null,\n",
      "\t\"results\": [\n",
      "\t\t{\n",
      "\t\t\t\"address1\": \"滋賀県\",\n",
      "\t\t\t\"address2\": \"彦根市\",\n",
      "\t\t\t\"address3\": \"旭町\",\n",
      "\t\t\t\"kana1\": \"ｼｶﾞｹﾝ\",\n",
      "\t\t\t\"kana2\": \"ﾋｺﾈｼ\",\n",
      "\t\t\t\"kana3\": \"ｱｻﾋﾏﾁ\",\n",
      "\t\t\t\"prefcode\": \"25\",\n",
      "\t\t\t\"zipcode\": \"5220073\"\n",
      "\t\t}\n",
      "\t],\n",
      "\t\"status\": 200\n",
      "}\n"
     ]
    }
   ],
   "source": [
    "print(r.text)"
   ]
  },
  {
   "cell_type": "code",
   "execution_count": 5,
   "id": "9bd89c50-788e-4446-b8f5-a2299c0f0693",
   "metadata": {
    "tags": []
   },
   "outputs": [
    {
     "data": {
      "text/plain": [
       "{'message': None,\n",
       " 'results': [{'address1': '滋賀県',\n",
       "   'address2': '彦根市',\n",
       "   'address3': '旭町',\n",
       "   'kana1': 'ｼｶﾞｹﾝ',\n",
       "   'kana2': 'ﾋｺﾈｼ',\n",
       "   'kana3': 'ｱｻﾋﾏﾁ',\n",
       "   'prefcode': '25',\n",
       "   'zipcode': '5220073'}],\n",
       " 'status': 200}"
      ]
     },
     "execution_count": 5,
     "metadata": {},
     "output_type": "execute_result"
    }
   ],
   "source": [
    "dic = r.json() # Json文字列からPythonのdict形式に変換\n",
    "dic"
   ]
  },
  {
   "cell_type": "markdown",
   "id": "49041660-bd77-4078-8fd7-e425a1d40c24",
   "metadata": {},
   "source": [
    "## Json文字列からpandasへの変換"
   ]
  },
  {
   "cell_type": "code",
   "execution_count": 9,
   "id": "4c16455a-d2bd-4634-a036-e778b265ea8d",
   "metadata": {},
   "outputs": [
    {
     "data": {
      "text/html": [
       "<div>\n",
       "<style scoped>\n",
       "    .dataframe tbody tr th:only-of-type {\n",
       "        vertical-align: middle;\n",
       "    }\n",
       "\n",
       "    .dataframe tbody tr th {\n",
       "        vertical-align: top;\n",
       "    }\n",
       "\n",
       "    .dataframe thead th {\n",
       "        text-align: right;\n",
       "    }\n",
       "</style>\n",
       "<table border=\"1\" class=\"dataframe\">\n",
       "  <thead>\n",
       "    <tr style=\"text-align: right;\">\n",
       "      <th></th>\n",
       "      <th>address1</th>\n",
       "      <th>address2</th>\n",
       "      <th>address3</th>\n",
       "      <th>kana1</th>\n",
       "      <th>kana2</th>\n",
       "      <th>kana3</th>\n",
       "      <th>prefcode</th>\n",
       "      <th>zipcode</th>\n",
       "    </tr>\n",
       "  </thead>\n",
       "  <tbody>\n",
       "    <tr>\n",
       "      <th>0</th>\n",
       "      <td>滋賀県</td>\n",
       "      <td>彦根市</td>\n",
       "      <td>旭町</td>\n",
       "      <td>ｼｶﾞｹﾝ</td>\n",
       "      <td>ﾋｺﾈｼ</td>\n",
       "      <td>ｱｻﾋﾏﾁ</td>\n",
       "      <td>25</td>\n",
       "      <td>5220073</td>\n",
       "    </tr>\n",
       "  </tbody>\n",
       "</table>\n",
       "</div>"
      ],
      "text/plain": [
       "  address1 address2 address3  kana1 kana2  kana3 prefcode  zipcode\n",
       "0      滋賀県      彦根市       旭町  ｼｶﾞｹﾝ  ﾋｺﾈｼ  ｱｻﾋﾏﾁ       25  5220073"
      ]
     },
     "execution_count": 9,
     "metadata": {},
     "output_type": "execute_result"
    }
   ],
   "source": [
    "# これをpandasに変換\n",
    "df=pd.json_normalize(dic['results'][0]) \n",
    "df"
   ]
  }
 ],
 "metadata": {
  "kernelspec": {
   "display_name": "Python 3 (ipykernel)",
   "language": "python",
   "name": "python3"
  },
  "language_info": {
   "codemirror_mode": {
    "name": "ipython",
    "version": 3
   },
   "file_extension": ".py",
   "mimetype": "text/x-python",
   "name": "python",
   "nbconvert_exporter": "python",
   "pygments_lexer": "ipython3",
   "version": "3.9.12"
  }
 },
 "nbformat": 4,
 "nbformat_minor": 5
}
