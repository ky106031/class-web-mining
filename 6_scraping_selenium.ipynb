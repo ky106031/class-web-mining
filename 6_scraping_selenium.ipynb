{
 "cells": [
  {
   "cell_type": "markdown",
   "id": "c0721e0f-88b2-41da-bad1-b89d2ca04101",
   "metadata": {},
   "source": [
    "# Selenium\n",
    "このコードを利用するには、事前にchromedriverをダウンロードし、Pathを通したうえで、起動しておく必要があることに注意。また、google chrome自体もインストールされている必要がある。"
   ]
  },
  {
   "cell_type": "code",
   "execution_count": 1,
   "id": "249a5555-af3e-4d5b-83ae-89fc7238dbb9",
   "metadata": {},
   "outputs": [],
   "source": [
    "from selenium import webdriver\n",
    "from selenium.webdriver.common.keys import Keys\n",
    "from selenium.common.exceptions import NoSuchElementException\n",
    "from selenium.webdriver.common.by import By\n",
    "from selenium.webdriver.common.action_chains import ActionChains"
   ]
  },
  {
   "cell_type": "code",
   "execution_count": 2,
   "id": "7f1ae7d9-5eac-458e-80c5-d018904752ea",
   "metadata": {},
   "outputs": [],
   "source": [
    "# Chromeの起動\n",
    "browser = webdriver.Chrome()"
   ]
  },
  {
   "cell_type": "code",
   "execution_count": 3,
   "id": "16265ac1-e442-4c8f-b71a-e93cdb8522a8",
   "metadata": {},
   "outputs": [],
   "source": [
    "# 滋賀大のページにアクセス\n",
    "browser.get(\"https://www.shiga-u.ac.jp/\")"
   ]
  },
  {
   "cell_type": "code",
   "execution_count": 4,
   "id": "41d9964a-b209-43e9-8ef3-5c3d001fecfb",
   "metadata": {},
   "outputs": [],
   "source": [
    "# Googleにアクセス\n",
    "browser.get('http:/www.google.co.jp')"
   ]
  },
  {
   "cell_type": "code",
   "execution_count": 5,
   "id": "2757c460-ac93-4347-bfc6-18cbc62c76ae",
   "metadata": {},
   "outputs": [],
   "source": [
    "# 検索窓を見つける\n",
    "input_element = browser.find_element(by=By.NAME, value='q')"
   ]
  },
  {
   "cell_type": "code",
   "execution_count": 6,
   "id": "a45698c1-a49e-48a2-80b0-abb88422a725",
   "metadata": {},
   "outputs": [],
   "source": [
    "# 検索ワードを入力\n",
    "input_element.send_keys('データサイエンス')"
   ]
  },
  {
   "cell_type": "code",
   "execution_count": 7,
   "id": "e3cf51a0-ebdf-4909-a080-74ce7cfe10bf",
   "metadata": {},
   "outputs": [],
   "source": [
    "# Returnを入力\n",
    "input_element.send_keys(Keys.RETURN)"
   ]
  },
  {
   "cell_type": "code",
   "execution_count": 8,
   "id": "5cd39172-f47e-4502-8004-b85fc2c3230f",
   "metadata": {},
   "outputs": [
    {
     "data": {
      "text/plain": [
       "True"
      ]
     },
     "execution_count": 8,
     "metadata": {},
     "output_type": "execute_result"
    }
   ],
   "source": [
    "# スクリーンショットをとる\n",
    "browser.save_screenshot('search_results.png')"
   ]
  },
  {
   "cell_type": "code",
   "execution_count": 9,
   "id": "64c9f086-445f-4746-ad60-6fd9fda4922a",
   "metadata": {},
   "outputs": [
    {
     "name": "stdout",
     "output_type": "stream",
     "text": [
      "データサイエンスとは? - 分析 - AWS\n",
      "https://aws.amazon.com/jp/what-is/data-science/#:~:text=%E3%83%87%E3%83%BC%E3%82%BF%E3%82%B5%E3%82%A4%E3%82%A8%E3%83%B3%E3%82%B9%E3%81%AF%E3%80%81%E3%83%93%E3%82%B8%E3%83%8D%E3%82%B9%E3%81%AB%E3%81%A8%E3%81%A3%E3%81%A6,%E5%AD%A6%E9%9A%9B%E7%9A%84%E3%81%AA%E3%82%A2%E3%83%97%E3%83%AD%E3%83%BC%E3%83%81%E3%81%A7%E3%81%99%E3%80%82\n",
      "\n",
      "https://doda.jp/engineer/guide/it/059.html#:~:text=%E3%83%87%E3%83%BC%E3%82%BF%E3%82%B5%E3%82%A4%E3%82%A8%E3%83%B3%E3%83%86%E3%82%A3%E3%82%B9%E3%83%88%E3%81%A8%E3%81%AF%E3%80%81%E4%B8%BB,%E3%81%AE%E3%81%93%E3%81%A8%E3%82%92%E6%8C%87%E3%81%97%E3%81%BE%E3%81%99%E3%80%82\n",
      "\n",
      "https://www.pharos21.net/column/kiminew/%E3%83%87%E3%83%BC%E3%82%BF%E3%82%B5%E3%82%A4%E3%82%A8%E3%83%B3%E3%82%B9%E5%AD%A6%E7%A7%91%E3%81%AF%E4%BD%95%E3%82%92%E5%AD%A6%E3%81%B6%EF%BC%9F%E6%B1%82%E3%82%81%E3%82%89%E3%82%8C%E3%82%8B%E3%82%B9/#:~:text=%E7%A4%BE%E4%BC%9A%E3%81%AE%E3%81%82%E3%82%89%E3%82%86%E3%82%8B%E5%95%8F%E9%A1%8C%E3%82%92,%E5%AD%A6%E7%A7%91%E3%81%A8%E3%81%AA%E3%81%A3%E3%81%A6%E3%81%84%E3%81%BE%E3%81%99%E3%80%82\n",
      "\n",
      "https://www.dga.co.jp/column/20230112-01/\n",
      "\n",
      "https://xn--pckua2a7gp15o89zb.com/%E3%83%87%E3%83%BC%E3%82%BF%E3%82%B5%E3%82%A4%E3%82%A8%E3%83%B3%E3%83%86%E3%82%A3%E3%82%B9%E3%83%88%E3%81%AE%E5%B9%B4%E5%8F%8E%E3%83%BB%E6%99%82%E7%B5%A6#:~:text=%E3%83%87%E3%83%BC%E3%82%BF%E3%82%B5%E3%82%A4%E3%82%A8%E3%83%B3%E3%83%86%E3%82%A3%E3%82%B9%E3%83%88%E3%81%AE%E4%BB%95%E4%BA%8B%E3%81%AE%E7%B5%A6%E6%96%99%E5%88%86%E5%B8%83,%E3%81%82%E3%82%8B%E3%81%A8%E8%A6%8B%E5%8F%97%E3%81%91%E3%82%89%E3%82%8C%E3%81%BE%E3%81%99%E3%80%82\n",
      "データサイエンスとは\n",
      "https://www.ibm.com/jp-ja/topics/data-science\n",
      "トップ｜一般社団法人データサイエンティスト協会\n",
      "https://www.datascientist.or.jp/\n",
      "データサイエンス・オンライン講座\n",
      "https://www.stat.go.jp/dss/online_index.html\n",
      "データサイエンス\n",
      "https://ja.wikipedia.org/wiki/%E3%83%87%E3%83%BC%E3%82%BF%E3%82%B5%E3%82%A4%E3%82%A8%E3%83%B3%E3%82%B9\n",
      "5分で分かるデータサイエンス - ITmedia\n",
      "https://atmarkit.itmedia.co.jp/ait/articles/2303/20/news023.html\n",
      "データサイエンスとは？基本情報と統計学・情報工学との違いを ...\n",
      "https://www.agaroot.jp/datascience/column/data-science/\n",
      "データサイエンス・スクール/統計力向上サイト\n",
      "https://www.stat.go.jp/dss/\n",
      "データサイエンスとは分かりやすく解説してみた\n",
      "https://manavector.com/useful/data-science\n",
      "総務省統計局データサイエンス・オンライン講座\n",
      "https://gacco.org/stat-japan/\n",
      "もっと見る\n",
      "https://www.google.co.jp/search?q=%E3%83%87%E3%83%BC%E3%82%BF%E3%82%B5%E3%82%A4%E3%82%A8%E3%83%B3%E3%82%B9&sca_esv=52387aaaa078a480&ei=DZpZZrK8FoTh2roPjauu6AI&start=10&sa=N\n",
      "\n",
      "None\n"
     ]
    }
   ],
   "source": [
    "# 検索結果のスクレイピング\n",
    "for h3 in browser.find_elements(by=By.CSS_SELECTOR,value=\"a > h3\"):\n",
    "    #ここはCSSでは書きづらいので、今回の授業では説明しなかったXPathという検索方法を用いている\n",
    "    a = h3.find_elements(by=By.XPATH, value='..') \n",
    "    print(h3.text)\n",
    "    print(a[0].get_attribute('href'))"
   ]
  },
  {
   "cell_type": "code",
   "execution_count": 10,
   "id": "3058532c-0b56-429d-bc72-f186e99b9931",
   "metadata": {},
   "outputs": [],
   "source": [
    "# Chromeを終了する\n",
    "browser.quit()"
   ]
  },
  {
   "cell_type": "code",
   "execution_count": null,
   "id": "c457caf5-2eb5-4941-9a9e-a5dbf27949b5",
   "metadata": {},
   "outputs": [],
   "source": []
  }
 ],
 "metadata": {
  "kernelspec": {
   "display_name": "Python 3 (ipykernel)",
   "language": "python",
   "name": "python3"
  },
  "language_info": {
   "codemirror_mode": {
    "name": "ipython",
    "version": 3
   },
   "file_extension": ".py",
   "mimetype": "text/x-python",
   "name": "python",
   "nbconvert_exporter": "python",
   "pygments_lexer": "ipython3",
   "version": "3.9.12"
  }
 },
 "nbformat": 4,
 "nbformat_minor": 5
}
